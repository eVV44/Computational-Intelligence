{
  "cells": [
    {
      "cell_type": "markdown",
      "id": "b66642bc",
      "metadata": {
        "deletable": true,
        "editable": true,
        "id": "b66642bc"
      },
      "source": [
        "# Assignment 5: Neuroevolution\n",
        "\n",
        "**Goal**: Implement an Evolutionary Algorithm to optimize an Artificial Neural Network (ANN) based controller for the CartPole task in OpenAI Gym environment.\n",
        "\n",
        "CartPole evaluation environment functions are provided. Your goal is to implement your ANN to control the cartpole and use your Evolutionary Algorithm to optimize the ANN parameters (weights).\n",
        "\n",
        "Please answer the `Questions` and implement coding `Tasks` by filling **PLEASE FILL IN** sections. *Documentation* of your code is also important. You can find the grading scheme in implementation cells.\n",
        "\n",
        "  * Plagiarism is automatically checked and set to **0 points**\n",
        "\n",
        "  * It is allowed to learn from external resources but copying is not allowed. If you use any external resource, please cite them in the comments (e.g. `# source: https://...../` (see `fitness_function`))"
      ]
    },
    {
      "cell_type": "code",
      "execution_count": 27,
      "id": "00a33af0",
      "metadata": {},
      "outputs": [
        {
          "name": "stdout",
          "output_type": "stream",
          "text": [
            "Requirement already satisfied: pyppeteer in c:\\users\\private\\appdata\\local\\programs\\python\\python39\\lib\\site-packages (2.0.0)\n",
            "Requirement already satisfied: appdirs<2.0.0,>=1.4.3 in c:\\users\\private\\appdata\\local\\programs\\python\\python39\\lib\\site-packages (from pyppeteer) (1.4.4)\n",
            "Requirement already satisfied: certifi>=2023 in c:\\users\\private\\appdata\\local\\programs\\python\\python39\\lib\\site-packages (from pyppeteer) (2024.2.2)\n",
            "Requirement already satisfied: importlib-metadata>=1.4 in c:\\users\\private\\appdata\\local\\programs\\python\\python39\\lib\\site-packages (from pyppeteer) (6.0.0)\n",
            "Requirement already satisfied: pyee<12.0.0,>=11.0.0 in c:\\users\\private\\appdata\\local\\programs\\python\\python39\\lib\\site-packages (from pyppeteer) (11.1.0)\n",
            "Requirement already satisfied: tqdm<5.0.0,>=4.42.1 in c:\\users\\private\\appdata\\local\\programs\\python\\python39\\lib\\site-packages (from pyppeteer) (4.66.2)\n",
            "Requirement already satisfied: urllib3<2.0.0,>=1.25.8 in c:\\users\\private\\appdata\\local\\programs\\python\\python39\\lib\\site-packages (from pyppeteer) (1.26.14)\n",
            "Requirement already satisfied: websockets<11.0,>=10.0 in c:\\users\\private\\appdata\\local\\programs\\python\\python39\\lib\\site-packages (from pyppeteer) (10.4)\n",
            "Requirement already satisfied: zipp>=0.5 in c:\\users\\private\\appdata\\local\\programs\\python\\python39\\lib\\site-packages (from importlib-metadata>=1.4->pyppeteer) (3.11.0)\n",
            "Requirement already satisfied: typing-extensions in c:\\users\\private\\appdata\\local\\programs\\python\\python39\\lib\\site-packages (from pyee<12.0.0,>=11.0.0->pyppeteer) (4.5.0)\n",
            "Requirement already satisfied: colorama in c:\\users\\private\\appdata\\local\\programs\\python\\python39\\lib\\site-packages (from tqdm<5.0.0,>=4.42.1->pyppeteer) (0.4.6)\n",
            "Note: you may need to restart the kernel to use updated packages.\n"
          ]
        }
      ],
      "source": [
        "%pip install pyppeteer\n",
        "\n",
        "import pyppeteer"
      ]
    },
    {
      "cell_type": "markdown",
      "id": "6d4169c0",
      "metadata": {
        "deletable": true,
        "editable": true,
        "id": "6d4169c0"
      },
      "source": [
        "**Install Prerequisites**"
      ]
    },
    {
      "cell_type": "code",
      "execution_count": 5,
      "id": "42dec0be",
      "metadata": {
        "colab": {
          "base_uri": "https://localhost:8080/"
        },
        "deletable": true,
        "editable": true,
        "id": "42dec0be",
        "outputId": "287ddd46-770b-46b2-aea9-1ae9ecbfdc84"
      },
      "outputs": [
        {
          "name": "stdout",
          "output_type": "stream",
          "text": [
            "Requirement already satisfied: numpy in c:\\users\\private\\appdata\\local\\programs\\python\\python39\\lib\\site-packages (1.24.1)\n",
            "Requirement already satisfied: matplotlib in c:\\users\\private\\appdata\\local\\programs\\python\\python39\\lib\\site-packages (3.7.0)\n",
            "Requirement already satisfied: scipy in c:\\users\\private\\appdata\\local\\programs\\python\\python39\\lib\\site-packages (1.10.0)\n",
            "Requirement already satisfied: contourpy>=1.0.1 in c:\\users\\private\\appdata\\local\\programs\\python\\python39\\lib\\site-packages (from matplotlib) (1.0.7)\n",
            "Requirement already satisfied: cycler>=0.10 in c:\\users\\private\\appdata\\local\\programs\\python\\python39\\lib\\site-packages (from matplotlib) (0.11.0)\n",
            "Requirement already satisfied: fonttools>=4.22.0 in c:\\users\\private\\appdata\\local\\programs\\python\\python39\\lib\\site-packages (from matplotlib) (4.38.0)\n",
            "Requirement already satisfied: kiwisolver>=1.0.1 in c:\\users\\private\\appdata\\local\\programs\\python\\python39\\lib\\site-packages (from matplotlib) (1.4.4)\n",
            "Requirement already satisfied: packaging>=20.0 in c:\\users\\private\\appdata\\local\\programs\\python\\python39\\lib\\site-packages (from matplotlib) (23.0)\n",
            "Requirement already satisfied: pillow>=6.2.0 in c:\\users\\private\\appdata\\local\\programs\\python\\python39\\lib\\site-packages (from matplotlib) (9.4.0)\n",
            "Requirement already satisfied: pyparsing>=2.3.1 in c:\\users\\private\\appdata\\local\\programs\\python\\python39\\lib\\site-packages (from matplotlib) (3.0.9)\n",
            "Requirement already satisfied: python-dateutil>=2.7 in c:\\users\\private\\appdata\\local\\programs\\python\\python39\\lib\\site-packages (from matplotlib) (2.8.2)\n",
            "Requirement already satisfied: importlib-resources>=3.2.0 in c:\\users\\private\\appdata\\local\\programs\\python\\python39\\lib\\site-packages (from matplotlib) (5.12.0)\n",
            "Requirement already satisfied: zipp>=3.1.0 in c:\\users\\private\\appdata\\local\\programs\\python\\python39\\lib\\site-packages (from importlib-resources>=3.2.0->matplotlib) (3.11.0)\n",
            "Requirement already satisfied: six>=1.5 in c:\\users\\private\\appdata\\local\\programs\\python\\python39\\lib\\site-packages (from python-dateutil>=2.7->matplotlib) (1.16.0)\n",
            "Note: you may need to restart the kernel to use updated packages.\n"
          ]
        }
      ],
      "source": [
        "# Run this cell to install the required libraries\n",
        "%pip install numpy matplotlib scipy"
      ]
    },
    {
      "cell_type": "code",
      "execution_count": 6,
      "id": "ee79c718",
      "metadata": {
        "colab": {
          "base_uri": "https://localhost:8080/",
          "height": 478
        },
        "id": "ee79c718",
        "outputId": "ef7abc1c-6fd3-4cc1-f76a-41b20af34126"
      },
      "outputs": [
        {
          "name": "stdout",
          "output_type": "stream",
          "text": [
            "Requirement already satisfied: moviepy in c:\\users\\private\\appdata\\local\\programs\\python\\python39\\lib\\site-packages (1.0.3)\n",
            "Requirement already satisfied: decorator<5.0,>=4.0.2 in c:\\users\\private\\appdata\\local\\programs\\python\\python39\\lib\\site-packages (from moviepy) (4.4.2)\n",
            "Requirement already satisfied: tqdm<5.0,>=4.11.2 in c:\\users\\private\\appdata\\local\\programs\\python\\python39\\lib\\site-packages (from moviepy) (4.66.2)\n",
            "Requirement already satisfied: requests<3.0,>=2.8.1 in c:\\users\\private\\appdata\\local\\programs\\python\\python39\\lib\\site-packages (from moviepy) (2.28.2)\n",
            "Requirement already satisfied: proglog<=1.0.0 in c:\\users\\private\\appdata\\local\\programs\\python\\python39\\lib\\site-packages (from moviepy) (0.1.10)\n",
            "Requirement already satisfied: numpy>=1.17.3 in c:\\users\\private\\appdata\\local\\programs\\python\\python39\\lib\\site-packages (from moviepy) (1.24.1)\n",
            "Requirement already satisfied: imageio<3.0,>=2.5 in c:\\users\\private\\appdata\\local\\programs\\python\\python39\\lib\\site-packages (from moviepy) (2.34.1)\n",
            "Requirement already satisfied: imageio-ffmpeg>=0.2.0 in c:\\users\\private\\appdata\\local\\programs\\python\\python39\\lib\\site-packages (from moviepy) (0.4.9)\n",
            "Requirement already satisfied: pillow>=8.3.2 in c:\\users\\private\\appdata\\local\\programs\\python\\python39\\lib\\site-packages (from imageio<3.0,>=2.5->moviepy) (9.4.0)\n",
            "Requirement already satisfied: setuptools in c:\\users\\private\\appdata\\local\\programs\\python\\python39\\lib\\site-packages (from imageio-ffmpeg>=0.2.0->moviepy) (58.1.0)\n",
            "Requirement already satisfied: charset-normalizer<4,>=2 in c:\\users\\private\\appdata\\local\\programs\\python\\python39\\lib\\site-packages (from requests<3.0,>=2.8.1->moviepy) (3.0.1)\n",
            "Requirement already satisfied: idna<4,>=2.5 in c:\\users\\private\\appdata\\local\\programs\\python\\python39\\lib\\site-packages (from requests<3.0,>=2.8.1->moviepy) (3.4)\n",
            "Requirement already satisfied: urllib3<1.27,>=1.21.1 in c:\\users\\private\\appdata\\local\\programs\\python\\python39\\lib\\site-packages (from requests<3.0,>=2.8.1->moviepy) (1.26.14)\n",
            "Requirement already satisfied: certifi>=2017.4.17 in c:\\users\\private\\appdata\\local\\programs\\python\\python39\\lib\\site-packages (from requests<3.0,>=2.8.1->moviepy) (2024.2.2)\n",
            "Requirement already satisfied: colorama in c:\\users\\private\\appdata\\local\\programs\\python\\python39\\lib\\site-packages (from tqdm<5.0,>=4.11.2->moviepy) (0.4.6)\n",
            "Note: you may need to restart the kernel to use updated packages.\n"
          ]
        }
      ],
      "source": [
        "%pip install moviepy"
      ]
    },
    {
      "cell_type": "code",
      "execution_count": 7,
      "id": "d566b3fe",
      "metadata": {
        "colab": {
          "base_uri": "https://localhost:8080/"
        },
        "id": "d566b3fe",
        "outputId": "ca69ef5f-bbc3-4b48-d3cc-e40fc4e22244"
      },
      "outputs": [
        {
          "name": "stdout",
          "output_type": "stream",
          "text": [
            "Requirement already satisfied: gymnasium[classic-control] in c:\\users\\private\\appdata\\local\\programs\\python\\python39\\lib\\site-packages (0.29.1)\n",
            "Requirement already satisfied: numpy>=1.21.0 in c:\\users\\private\\appdata\\local\\programs\\python\\python39\\lib\\site-packages (from gymnasium[classic-control]) (1.24.1)\n",
            "Requirement already satisfied: cloudpickle>=1.2.0 in c:\\users\\private\\appdata\\local\\programs\\python\\python39\\lib\\site-packages (from gymnasium[classic-control]) (3.0.0)\n",
            "Requirement already satisfied: typing-extensions>=4.3.0 in c:\\users\\private\\appdata\\local\\programs\\python\\python39\\lib\\site-packages (from gymnasium[classic-control]) (4.5.0)\n",
            "Requirement already satisfied: farama-notifications>=0.0.1 in c:\\users\\private\\appdata\\local\\programs\\python\\python39\\lib\\site-packages (from gymnasium[classic-control]) (0.0.4)\n",
            "Requirement already satisfied: importlib-metadata>=4.8.0 in c:\\users\\private\\appdata\\local\\programs\\python\\python39\\lib\\site-packages (from gymnasium[classic-control]) (6.0.0)\n",
            "Requirement already satisfied: pygame>=2.1.3 in c:\\users\\private\\appdata\\local\\programs\\python\\python39\\lib\\site-packages (from gymnasium[classic-control]) (2.5.2)\n",
            "Requirement already satisfied: zipp>=0.5 in c:\\users\\private\\appdata\\local\\programs\\python\\python39\\lib\\site-packages (from importlib-metadata>=4.8.0->gymnasium[classic-control]) (3.11.0)\n",
            "Note: you may need to restart the kernel to use updated packages.\n"
          ]
        }
      ],
      "source": [
        "%pip install gymnasium[classic-control]"
      ]
    },
    {
      "cell_type": "code",
      "execution_count": 8,
      "id": "3tDr9cVUUclM",
      "metadata": {
        "colab": {
          "base_uri": "https://localhost:8080/"
        },
        "id": "3tDr9cVUUclM",
        "outputId": "1d761ea5-6225-4db5-ae6b-ffd47262694e"
      },
      "outputs": [
        {
          "name": "stdout",
          "output_type": "stream",
          "text": [
            "Requirement already satisfied: PyQt5 in c:\\users\\private\\appdata\\local\\programs\\python\\python39\\lib\\site-packages (5.15.10)\n",
            "Requirement already satisfied: PyQt5-sip<13,>=12.13 in c:\\users\\private\\appdata\\local\\programs\\python\\python39\\lib\\site-packages (from PyQt5) (12.13.0)\n",
            "Requirement already satisfied: PyQt5-Qt5>=5.15.2 in c:\\users\\private\\appdata\\local\\programs\\python\\python39\\lib\\site-packages (from PyQt5) (5.15.2)\n",
            "Note: you may need to restart the kernel to use updated packages.\n",
            "Requirement already satisfied: PySide2 in c:\\users\\private\\appdata\\local\\programs\\python\\python39\\lib\\site-packages (5.15.2.1)\n",
            "Requirement already satisfied: shiboken2==5.15.2.1 in c:\\users\\private\\appdata\\local\\programs\\python\\python39\\lib\\site-packages (from PySide2) (5.15.2.1)\n",
            "Note: you may need to restart the kernel to use updated packages.\n"
          ]
        }
      ],
      "source": [
        "%pip install PyQt5\n",
        "# or\n",
        "%pip install PySide2\n"
      ]
    },
    {
      "cell_type": "markdown",
      "id": "7406fbfe",
      "metadata": {
        "deletable": true,
        "editable": true,
        "id": "7406fbfe"
      },
      "source": [
        "**Imports**"
      ]
    },
    {
      "cell_type": "code",
      "execution_count": 9,
      "id": "96c0767a",
      "metadata": {
        "deletable": true,
        "editable": true,
        "id": "96c0767a"
      },
      "outputs": [],
      "source": [
        "# Necessary libraries\n",
        "import matplotlib.pyplot as plt\n",
        "import numpy as np\n"
      ]
    },
    {
      "cell_type": "code",
      "execution_count": 10,
      "id": "bcc4a79c",
      "metadata": {
        "colab": {
          "base_uri": "https://localhost:8080/"
        },
        "deletable": true,
        "editable": true,
        "id": "bcc4a79c",
        "outputId": "20f65b67-b578-465e-a436-ec1d6dd9f0a6"
      },
      "outputs": [
        {
          "name": "stdout",
          "output_type": "stream",
          "text": [
            "Requirement already satisfied: PyQt5 in c:\\users\\private\\appdata\\local\\programs\\python\\python39\\lib\\site-packages (5.15.10)\n",
            "Requirement already satisfied: PyQt5-sip<13,>=12.13 in c:\\users\\private\\appdata\\local\\programs\\python\\python39\\lib\\site-packages (from PyQt5) (12.13.0)\n",
            "Requirement already satisfied: PyQt5-Qt5>=5.15.2 in c:\\users\\private\\appdata\\local\\programs\\python\\python39\\lib\\site-packages (from PyQt5) (5.15.2)\n",
            "Note: you may need to restart the kernel to use updated packages.\n"
          ]
        },
        {
          "data": {
            "text/plain": [
              "<contextlib.ExitStack at 0x25fe20ee670>"
            ]
          },
          "execution_count": 10,
          "metadata": {},
          "output_type": "execute_result"
        }
      ],
      "source": [
        "# # Enables inline matplotib graphs\n",
        "# %matplotlib inline\n",
        "# # Comment the line above and uncomment the lines below to have interactive plots\n",
        "# # # WARN: may cause dependency issues\n",
        "%matplotlib inline\n",
        "import matplotlib.pyplot as plt\n",
        "\n",
        "# %matplotlib qt5\n",
        "%pip install PyQt5\n",
        "plt.ion()"
      ]
    },
    {
      "cell_type": "code",
      "execution_count": 11,
      "id": "35be240b",
      "metadata": {
        "colab": {
          "base_uri": "https://localhost:8080/"
        },
        "deletable": true,
        "editable": true,
        "id": "35be240b",
        "lines_to_next_cell": 2,
        "outputId": "ae80fef8-3d10-4e8d-a092-8f02ecc0281b"
      },
      "outputs": [
        {
          "name": "stdout",
          "output_type": "stream",
          "text": [
            "Requirement already satisfied: gymnasium in c:\\users\\private\\appdata\\local\\programs\\python\\python39\\lib\\site-packages (0.29.1)\n",
            "Requirement already satisfied: numpy>=1.21.0 in c:\\users\\private\\appdata\\local\\programs\\python\\python39\\lib\\site-packages (from gymnasium) (1.24.1)\n",
            "Requirement already satisfied: cloudpickle>=1.2.0 in c:\\users\\private\\appdata\\local\\programs\\python\\python39\\lib\\site-packages (from gymnasium) (3.0.0)\n",
            "Requirement already satisfied: typing-extensions>=4.3.0 in c:\\users\\private\\appdata\\local\\programs\\python\\python39\\lib\\site-packages (from gymnasium) (4.5.0)\n",
            "Requirement already satisfied: farama-notifications>=0.0.1 in c:\\users\\private\\appdata\\local\\programs\\python\\python39\\lib\\site-packages (from gymnasium) (0.0.4)\n",
            "Requirement already satisfied: importlib-metadata>=4.8.0 in c:\\users\\private\\appdata\\local\\programs\\python\\python39\\lib\\site-packages (from gymnasium) (6.0.0)\n",
            "Requirement already satisfied: zipp>=0.5 in c:\\users\\private\\appdata\\local\\programs\\python\\python39\\lib\\site-packages (from importlib-metadata>=4.8.0->gymnasium) (3.11.0)\n",
            "Note: you may need to restart the kernel to use updated packages.\n"
          ]
        }
      ],
      "source": [
        "%pip install gymnasium\n",
        "import gymnasium as gym"
      ]
    },
    {
      "cell_type": "markdown",
      "id": "5d1a0353",
      "metadata": {
        "deletable": true,
        "editable": true,
        "id": "5d1a0353"
      },
      "source": [
        "---\n",
        "**Question 1 (0-0.25-0.5 pt):** Following link provides more information about the CartPole environemnt we would like to find an ANN to control: https://www.gymlibrary.dev/environments/classic_control/cart_pole/\n",
        "\n",
        "Please have a look at the link and note the observation and action spaces, how many dimensions they have? Are they continous or discrete, and what kinds of value they can get?\n",
        "\n",
        "**Answer:** \n",
        "\n",
        "Observation Space:\n",
        "- Dimension: 4\n",
        "- Type: Continuous\n",
        "- Values:\n",
        "  - Cart Position:  [-4.8, 4.8]\n",
        "  - Cart Velocity:  (-Inf, +Inf)\n",
        "  - Pole Angle: [-0.418 rad (-24°), 0.418 rad (24°)]\n",
        "  - Pole Angular Velocity: (-Inf, +Inf)\n",
        "\n",
        "Action Space:\n",
        "- Dimension: 1\n",
        "- Type: Discrete\n",
        "- Values:\n",
        "  - Push cart to the left (0)\n",
        "  - Push cart to the right (1)\n",
        "\n"
      ]
    },
    {
      "cell_type": "markdown",
      "id": "5a4de2e7",
      "metadata": {
        "deletable": true,
        "editable": true,
        "id": "5a4de2e7"
      },
      "source": [
        "---\n",
        "**Question 2 (0-0.25-0.5 pt):** What is your proposed ANN architecture and why? Please also discuss the activation functions you choose.\n",
        "\n",
        "**Answer:** \n",
        "\n",
        "The proposed ANN architecture for the CartPole environment has an input layer with four neurons (because the CartPole environment provides observations with 4 features), a hidden layer with eight neurons (enough for relatively simpler problems, increase for more complicated problems), and an output layer with two neurons (move left or right). This design is selected to successfuly deal with the observations (inputs) while balancing computational efficiency. The hidden layer has an activation- the hyperbolic tangent (tanh) activation function. This was added to transform the input information into a suitable format for predicting actions. In addition, this helps to capture nonlinear relationships and prevent vanishing gradients. Moreover, the output layer has the softmax activation function to generate a probability distribution over possible actions. This activation is ensuring valid action probabilities. "
      ]
    },
    {
      "cell_type": "markdown",
      "id": "af2a7ba8",
      "metadata": {
        "deletable": true,
        "editable": true,
        "id": "af2a7ba8"
      },
      "source": [
        "---\n",
        "**Task 1: Implementation of Evolutionary Algrotihm (0-1.6-3.8-4.2-5 pt):** Implement your evolutionary algorithm to find an ANN controller for the CartPole task."
      ]
    },
    {
      "cell_type": "code",
      "execution_count": 12,
      "id": "8b508e9c",
      "metadata": {
        "deletable": true,
        "editable": true,
        "id": "8b508e9c",
        "lines_to_next_cell": 2
      },
      "outputs": [],
      "source": [
        "#################################\n",
        "# Grading\n",
        "# 0 pts if the code does not work, code works but it is fundamentally incorrect\n",
        "# 1.6 pts if the code works but some functions are incorrect and it is badly explained\n",
        "# 3.8 pts if the code works but some functions are incorrect but it is explained well\n",
        "# 4.2 pts if the code works very well aligned with the task without any mistakes, but it is badly explained\n",
        "# 5 pts if the code works very well aligned with the task without any mistakes, and it is well explained\n",
        "################################################################\n",
        "\n",
        "\n",
        "# Artificial Neural Network parameters (weights)\n",
        "# See here: https://www.gymlibrary.dev/environments/classic_control/cart_pole/ for input and output space\n",
        "# PLEASE SPECIFY BELOW\n",
        "\n",
        "#the input is 4 as mentioned in Q2\n",
        "inp = 4 # Number of input neurons\n",
        "#the hidden layer count is 8, which enough for not as complicated problems\n",
        "hid = 8 # Number of hidden neurons\n",
        "#the output is 4 as mentioned in Q2\n",
        "out = 2 # Nubmer of output neurons\n",
        "###################\n",
        "\n",
        "\n",
        "#Open AI gym environment\n",
        "env = gym.make(\"CartPole-v1\")\n",
        "\n",
        "# CartPole evaluation function\n",
        "def cartpole(x):\n",
        "\n",
        "    ###########\n",
        "    # PLEASE FILL IN\n",
        "    # Hint: x is an individual in evolutionary algorithms and needs to map to the connection weights of ANNs\n",
        "\n",
        "    #here we extract weights that are connecting input neurons to hidden neurons\n",
        "    input_hidden_w = x[:inp * hid].reshape(inp, hid)\n",
        "    #here we extract weights that are connecting hidden neurons to output neurons\n",
        "    output_hidden_w = x[inp * hid:].reshape(hid, out)\n",
        "    #########\n",
        "\n",
        "    # Reset environment\n",
        "    observation, info = env.reset(seed = 0)\n",
        "\n",
        "    rew = 0 # Initial reward\n",
        "    step = 0; #step counter\n",
        "    done = False\n",
        "    maxStep = 1000  # maximum number of steps\n",
        "    while not done and step<1000:\n",
        "\n",
        "      ###################\n",
        "      # PLEASE FILL IN\n",
        "      # Hint: Provide input to ANN and find the output to be the action\n",
        "      # action = ?\n",
        "\n",
        "      #the activation for hidden layer is done by multiplying the input observation by the input to hidden layer weights\n",
        "      hidden_activations = np.dot(observation, input_hidden_w)\n",
        "      #then apply the hyperbolic tangent activation function to the hidden layer activations\n",
        "      hidden_activations = np.tanh(hidden_activations) \n",
        "      #the activations for output layer is done by multiplying the hidden layer activations by the hidden to output layer weights    \n",
        "      output_activations = np.dot(hidden_activations, output_hidden_w)\n",
        "      #the output probabilities are calculated by applying the softmax acivation function for the output layer activations\n",
        "      output_probs = np.exp(output_activations) / np.sum(np.exp(output_activations))\n",
        "      #choose an action based on the output probabilities\n",
        "      action = np.random.choice(range(out), p=output_probs)\n",
        "\n",
        "      # action should be provided based on the output of the artifial neural network\n",
        "      observation, reward, done, tr, info = env.step(action)\n",
        "      step+=1 # step counter\n",
        "      rew = rew + reward # after each step increment reward\n",
        "\n",
        "    env.close()\n",
        "    return np.minimum(maxStep, rew) # return the reward or maxStep (if maxStep < 1000, this means that pole fell)\n",
        "\n",
        "\n",
        "\n",
        "# CartPole evaluation function with video recording\n",
        "def cartpole_record_video(x):\n",
        "    tmp_env = gym.make(\"CartPole-v1\", render_mode=\"rgb_array\")\n",
        "\n",
        "    # Video recording function - be sure to check the folder path - you should see the video here:content/video/cartpole\n",
        "    env = gym.wrappers.RecordVideo(env=tmp_env, video_folder=\"content/video/cartpole\", name_prefix=\"cartpole\")\n",
        "\n",
        "    ###########\n",
        "    # PLEASE FILL IN\n",
        "    # Hint: x is an individual in evolutionary algorithms and needs to map to the connection weights of ANNs\n",
        "\n",
        "    #here we extract weights that are connecting input neurons to hidden neurons\n",
        "    input_hidden_w = x[:inp * hid].reshape(inp, hid)\n",
        "    #here we extract weights that are connecting hidden neurons to output neurons\n",
        "    output_hidden_w = x[inp * hid:].reshape(hid, out)\n",
        "\n",
        "    #########\n",
        "    \n",
        "    # Reset environment\n",
        "    observation, info = env.reset(seed = 0)\n",
        "\n",
        "    env.start_video_recorder()\n",
        "\n",
        "    rew = 0 # Initial reward\n",
        "    step = 0; #step counter\n",
        "    done = False\n",
        "    maxStep = 1000  # maximum number of steps\n",
        "    while not done and step<1000: # run nStep number of time\n",
        "\n",
        "      ###################\n",
        "      # PLEASE FILL IN\n",
        "      # Hint: Provide input to ANN and find the output to be the action\n",
        "      # action = ?\n",
        "      #the activation for hidden layer is done by multiplying the input observation by the input to hidden layer weights\n",
        "      hidden_activations = np.dot(observation, input_hidden_w)\n",
        "      #then apply the hyperbolic tangent activation function to the hidden layer activations\n",
        "      hidden_activations = np.tanh(hidden_activations) \n",
        "      #the activations for output layer is done by multiplying the hidden layer activations by the hidden to output layer weights    \n",
        "      output_activations = np.dot(hidden_activations, output_hidden_w)\n",
        "      #the output probabilities are calculated by applying the softmax acivation function for the output layer activations\n",
        "      output_probs = np.exp(output_activations) / np.sum(np.exp(output_activations))\n",
        "      #choose an action based on the output probabilities\n",
        "      action = np.random.choice(range(out), p=output_probs)\n",
        "\n",
        "\n",
        "      # action should be provided based on the output of the artifial neural network\n",
        "      observation, reward, done, tr, info = env.step(action)\n",
        "      step+=1 # step counter\n",
        "      rew = rew + reward # after each step increment reward\n",
        "      env.render()\n",
        "\n",
        "    env.close_video_recorder()\n",
        "    env.close()\n",
        "    return np.minimum(maxStep, rew) # return the reward or maxStep (if maxStep < 1000, this means that pole fell)\n",
        "\n",
        "\n",
        "\n",
        "\n",
        "# CartPole evaluation function for visualizing the cartpole environment\n",
        "def cartpole_visualize(x):\n",
        "    tmp_env = gym.make(\"CartPole-v1\", render_mode=\"human\")\n",
        "\n",
        "    ###########\n",
        "    # PLEASE FILL IN\n",
        "    # Hint: x is an individual in evolutionary algorithms and needs to map to the connection weights of ANNs\n",
        "    input_hidden_w = x[:inp * hid].reshape(inp, hid)\n",
        "    output_hidden_w = x[inp * hid:].reshape(hid, out)\n",
        "    #########\n",
        "\n",
        "    # Reset environment\n",
        "    observation, info = tmp_env.reset(seed = 0)\n",
        "\n",
        "    rew = 0 # Initial reward\n",
        "    step = 0; #step counter\n",
        "    done = False\n",
        "    maxStep = 1000  # maximum number of steps\n",
        "    while not done and step<1000: # run nStep number of time\n",
        "\n",
        "      ###################\n",
        "      # PLEASE FILL IN\n",
        "      # Hint: Provide input to ANN and find the output to be the action\n",
        "      # action = ?\n",
        "        #the activation for hidden layer is done by multiplying the input observation by the input to hidden layer weights\n",
        "        hidden_activations = np.dot(observation, input_hidden_w)\n",
        "        #then apply the hyperbolic tangent activation function to the hidden layer activations\n",
        "        hidden_activations = np.tanh(hidden_activations) \n",
        "        #the activations for output layer is done by multiplying the hidden layer activations by the hidden to output layer weights    \n",
        "        output_activations = np.dot(hidden_activations, output_hidden_w)\n",
        "        #the output probabilities are calculated by applying the softmax acivation function for the output layer activations\n",
        "        output_probs = np.exp(output_activations) / np.sum(np.exp(output_activations))\n",
        "        #choose an action based on the output probabilities\n",
        "        action = np.random.choice(range(out), p=output_probs)\n",
        "\n",
        "      # action should be provided based on the output of the artifial neural network\n",
        "        observation, reward, done, tr, info = tmp_env.step(action)\n",
        "        step+=1 # step counter\n",
        "        rew = rew + reward # after each step increment reward\n",
        "        tmp_env.render()\n",
        "\n",
        "    tmp_env.close()\n",
        "    return np.minimum(maxStep, rew) # return the reward or maxStep (if maxStep < 1000, this means that pole fell)\n",
        "\n",
        "\n",
        "\n",
        "# Implement your Evolutionary Algorithm to find the ANN weigths that can balance the CartPole\n",
        "# Feel free to add any functions, such as initialization, crossover, etc.. to make it work!\n",
        "\n",
        "#*the most part of the code is taken from assignment 2\n",
        "def initialization(population_size):\n",
        "    #create an empty list to store the population\n",
        "    x = []\n",
        "    for _ in range(population_size):\n",
        "        #random array with values up to the sum of the weights connecting input to hidden layer and hidden to output layer\n",
        "        x.append(np.random.rand(inp * hid + hid * out))\n",
        "    #convert to an array\n",
        "    x = np.array(x)\n",
        "    return x\n",
        "\n",
        "def evaluation(x, objective_function):\n",
        "    fitness = []\n",
        "    #evaluate each individual of x by applying the objective function\n",
        "    for individual in x:\n",
        "        f_value = objective_function(individual)\n",
        "        fitness.append(f_value)\n",
        "\n",
        "    #convert the list to array\n",
        "    fitness = np.array(fitness)\n",
        "    return fitness  \n",
        "\n",
        "def crossover(x_parents, p_crossover):\n",
        "    number_parents, number_dim = x_parents.shape\n",
        "    number_ofsprings = number_parents - 1\n",
        "\n",
        "    #greate an array with zeros where to store the offspring values\n",
        "    offspring = np.zeros((number_ofsprings+1, number_dim))\n",
        "\n",
        "    #iterate through every 2 valus\n",
        "    for i in range(0, number_ofsprings, 2):\n",
        "        parent = x_parents[i]\n",
        "        parent2 = x_parents[i+1]\n",
        "\n",
        "        #if a random value between 0 and 1 is smaller than the crossover, perform it\n",
        "        if np.random.rand() < p_crossover:\n",
        "            #select a random integer as a crossover point\n",
        "            cross_over = np.random.randint(1, number_dim)\n",
        "            #do one point crossover\n",
        "            offspring[i] = np.concatenate((parent[:cross_over], parent2[cross_over:]))\n",
        "            offspring[i+1] = np.concatenate((parent2[:cross_over], parent[cross_over:]))\n",
        "        #do not do the crossover, so just select parents as offspring\n",
        "        else:\n",
        "            offspring[i] = parent\n",
        "            offspring[i+1] = parent2\n",
        "\n",
        "    return offspring\n",
        "\n",
        "\n",
        "def mutate(x, m_rate):\n",
        "    for i in range(len(x)):\n",
        "        #perform mutation if a random value between 0 and 1 is less than the mutation rate\n",
        "        if np.random.rand() < m_rate:\n",
        "            #the mutation value is a random value from the normal distribution\n",
        "            mutation_value = np.random.normal(0,1)\n",
        "            #add the mutation value to each individual in the population\n",
        "            x[i] += mutation_value\n",
        "    return x\n",
        "\n",
        "\n",
        "def parent_selection(x, f):\n",
        "    #extract the population size\n",
        "    population_size = len(x)\n",
        "    #the population size is also the number of parents\n",
        "    number_parents = population_size\n",
        "\n",
        "    #create arrays of zeros to store selected parents and corresponding fitness values\n",
        "    x_parents = np.zeros((number_parents, x.shape[1]))\n",
        "    f_parents = np.zeros(number_parents)\n",
        "\n",
        "    for i in range(number_parents):\n",
        "        #randomly choose two different individuals\n",
        "        idx1, idx2 = np.random.choice(population_size, size=2, replace=False)\n",
        "        #compare the fitness values and select the individual with the highest fitness value\n",
        "        if f[idx1] > f[idx2]:\n",
        "            x_parents[i] = x[idx1]\n",
        "            f_parents[i] = f[idx1]\n",
        "        else:\n",
        "            x_parents[i] = x[idx2]\n",
        "            f_parents[i] = f[idx2]\n",
        "\n",
        "    return x_parents, f_parents  \n",
        "\n",
        "\n",
        "\n",
        "# Evolutionary Algorithm (EA) to find ANN weights that balance the CartPole\n",
        "def ea(\n",
        "    population_size,\n",
        "    max_fit_evals,  # Maximum number of evaluations\n",
        "    p_crossover,  # Probability of performing crossover operator\n",
        "    m_rate,  # Mutation rate\n",
        "    objective_function,  # Objective function to be minimized\n",
        "):\n",
        "    #initialise population\n",
        "    population = initialization(population_size)\n",
        "    #initialize best solution and fitness\n",
        "    x_best = None\n",
        "    f_best = -np.inf\n",
        "\n",
        "    #evaluate\n",
        "    fitness_values = evaluation(population, objective_function)\n",
        "    for x, fitness in zip(population, fitness_values):\n",
        "        if fitness > f_best:\n",
        "            x_best = x\n",
        "            f_best = fitness\n",
        "\n",
        "    for _ in range(max_fit_evals):\n",
        "        #select parents\n",
        "        parents, fitness_parents = parent_selection(population, fitness_values) \n",
        "\n",
        "        #do crossover\n",
        "        offspring = crossover(parents, p_crossover)\n",
        "\n",
        "        #do mutation\n",
        "        offspring = mutate(offspring, m_rate)\n",
        "\n",
        "        #evaluate offspring and replace worst individuals\n",
        "        offspring_fitness = evaluation(offspring, objective_function)\n",
        "        for i in range(len(population)):\n",
        "            if offspring_fitness[i] > fitness_values[i]:\n",
        "                population[i] = offspring[i]\n",
        "                fitness_values[i] = offspring_fitness[i]\n",
        "                if offspring_fitness[i] > f_best:\n",
        "                    x_best = offspring[i]\n",
        "                    f_best = offspring_fitness[i]\n",
        "\n",
        "\n",
        "    return x_best, f_best  # return the best solution (ANN weights) and the fitness"
      ]
    },
    {
      "cell_type": "markdown",
      "id": "52ddb0a4",
      "metadata": {
        "deletable": true,
        "editable": true,
        "id": "52ddb0a4"
      },
      "source": [
        "#### Check Your Implementation: Running The Evolutionary Algorithm\n",
        "\n",
        "Run the cell below, if you implemented everything correctly, you should see the algorithm running. Furthermore,"
      ]
    },
    {
      "cell_type": "code",
      "execution_count": 13,
      "id": "e85066e6",
      "metadata": {
        "colab": {
          "base_uri": "https://localhost:8080/"
        },
        "deletable": true,
        "editable": true,
        "id": "e85066e6",
        "lines_to_next_cell": 2,
        "outputId": "48f29681-4247-48db-87f9-c9755eaa2a08"
      },
      "outputs": [
        {
          "name": "stdout",
          "output_type": "stream",
          "text": [
            "Best ANN parameters found: [-0.58880729  0.13887328  0.09441959  0.09642485 -0.37221598  1.19289754\n",
            "  2.60104632  4.05691069  4.00730087  3.69779152  4.57119019  4.55768335\n",
            "  3.96893734  4.0433789   4.11535313  4.29562409  4.33102     4.34581111\n",
            "  4.45673443  4.02201834  3.79534778  4.45250277  3.74484879  4.07909414\n",
            "  4.09874314  3.88363223  4.66053005  4.27176343  4.28555333  4.10767744\n",
            "  4.36443433  3.87522701  3.67704038  5.05514354  4.64029734  5.30144279\n",
            "  4.68319479  5.23378018  4.77248174  5.14554761  4.66054662  5.17348742\n",
            "  5.16062057  4.77024475  4.65316954  5.44134103  5.54146944  4.80857376]\n",
            "Best fitnes found: 1000.0\n",
            "Moviepy - Building video c:\\Users\\Private\\Documents\\uni\\year2\\CI\\assignment5\\content\\video\\cartpole\\cartpole-episode-0.mp4.\n",
            "Moviepy - Writing video c:\\Users\\Private\\Documents\\uni\\year2\\CI\\assignment5\\content\\video\\cartpole\\cartpole-episode-0.mp4\n",
            "\n"
          ]
        },
        {
          "name": "stderr",
          "output_type": "stream",
          "text": [
            "                                                  "
          ]
        },
        {
          "name": "stdout",
          "output_type": "stream",
          "text": [
            "Moviepy - Done !\n",
            "Moviepy - video ready c:\\Users\\Private\\Documents\\uni\\year2\\CI\\assignment5\\content\\video\\cartpole\\cartpole-episode-0.mp4\n"
          ]
        },
        {
          "name": "stderr",
          "output_type": "stream",
          "text": [
            "\r"
          ]
        },
        {
          "name": "stdout",
          "output_type": "stream",
          "text": [
            "Moviepy - Building video c:\\Users\\Private\\Documents\\uni\\year2\\CI\\assignment5\\content\\video\\cartpole\\cartpole-episode-0.mp4.\n",
            "Moviepy - Writing video c:\\Users\\Private\\Documents\\uni\\year2\\CI\\assignment5\\content\\video\\cartpole\\cartpole-episode-0.mp4\n",
            "\n"
          ]
        },
        {
          "name": "stderr",
          "output_type": "stream",
          "text": [
            "                                                               \r"
          ]
        },
        {
          "name": "stdout",
          "output_type": "stream",
          "text": [
            "Moviepy - Done !\n",
            "Moviepy - video ready c:\\Users\\Private\\Documents\\uni\\year2\\CI\\assignment5\\content\\video\\cartpole\\cartpole-episode-0.mp4\n"
          ]
        }
      ],
      "source": [
        "# Dummy parameters, please add or remove based on your implementation\n",
        "kwargs = {\n",
        "    \"population_size\": 20,\n",
        "    \"max_fit_evals\": 100,  # maximum number of fitness evaluations\n",
        "    \"p_crossover\": 0.9,  # crossover probability\n",
        "    \"m_rate\": 0.5,  # mutation rate\n",
        "    \"objective_function\": cartpole,\n",
        "}\n",
        "# Run your algorithm once and find the best ANN weigths found\n",
        "env = gym.make(\"CartPole-v1\")\n",
        "x_best, f_best = ea(**kwargs)\n",
        "\n",
        "\n",
        "# Print the best ANN weigths found and best fitness\n",
        "print(\"Best ANN parameters found:\",x_best)\n",
        "print(\"Best fitnes found:\",f_best)\n",
        "\n",
        "\n",
        "# Evaluate your ANN weights again and record the video\n",
        "if f_best >= 1000:\n",
        "  cartpole_record_video(x_best)\n",
        "  #or cartpole_visualize(x_best[-1] )\n",
        "else:\n",
        "  print(\"The best fitness 1000 was not found, try again!!\")"
      ]
    },
    {
      "cell_type": "markdown",
      "id": "7e862cf9",
      "metadata": {
        "id": "7e862cf9"
      },
      "source": [
        "---\n",
        "**Question 3 (0-0.25-0.5 pt):** Please comment on the behavior of the final solution. Were you able to find the best solution (i.e. ANN weights which achieves best fitness: 1000) and was it possible to controll the CartPole task without letting the the pole fall?\n",
        "\n",
        "**Answer:** \n",
        "The final solution successfully found the best set of ANN weights that achieved a fitness score of 1000. This fitness value is optimal and sufficient based on the specified fitness function. The evolutionary algorithm was able to find optimal values for successful CartPole task execution. Based on the video, the CartPole task was indeed controlled successfully without letting the pole fall for the entire duration of the evaluation period.\n"
      ]
    },
    {
      "cell_type": "markdown",
      "id": "3dfd08c2",
      "metadata": {
        "deletable": true,
        "editable": true,
        "id": "3dfd08c2",
        "lines_to_next_cell": 2
      },
      "source": [
        "**Average results of your algorithm**\n",
        "\n",
        "Remember that the EAs are sthocastic algorithms that can produce different results as a result of independent runs.\n",
        "\n",
        "Therefore, we would like to see the average results and standard deviations.\n"
      ]
    },
    {
      "cell_type": "markdown",
      "id": "db881769",
      "metadata": {
        "id": "db881769"
      },
      "source": [
        "---\n",
        "**Task 2 (0-1.5-3 pt):** Please run your algorithm for at least 10 times and plot the average results and standard deviations. Below, you may add as many cells as you need for this implementation and plot functions. You may use previous code you have developed/used during the course."
      ]
    },
    {
      "cell_type": "code",
      "execution_count": 14,
      "id": "-gK-wHRnbjOf",
      "metadata": {
        "colab": {
          "base_uri": "https://localhost:8080/",
          "height": 373
        },
        "id": "-gK-wHRnbjOf",
        "outputId": "777e3cbc-4e28-4b8f-f3ca-92b11dfe2e87"
      },
      "outputs": [
        {
          "name": "stdout",
          "output_type": "stream",
          "text": [
            "Running iteration 1\n",
            "Best fitness found this run: 1000.0\n",
            "Running iteration 2\n",
            "Best fitness found this run: 1000.0\n",
            "Running iteration 3\n",
            "Best fitness found this run: 1000.0\n",
            "Running iteration 4\n",
            "Best fitness found this run: 1000.0\n",
            "Running iteration 5\n",
            "Best fitness found this run: 1000.0\n",
            "Running iteration 6\n",
            "Best fitness found this run: 1000.0\n",
            "Running iteration 7\n",
            "Best fitness found this run: 1000.0\n",
            "Running iteration 8\n",
            "Best fitness found this run: 1000.0\n",
            "Running iteration 9\n",
            "Best fitness found this run: 1000.0\n",
            "Running iteration 10\n",
            "Best fitness found this run: 1000.0\n",
            "Averages: [1000.0]\n",
            "Standard Deviations: [0.0]\n",
            "All runs data: [[1000.0, 1000.0, 1000.0, 1000.0, 1000.0, 1000.0, 1000.0, 1000.0, 1000.0, 1000.0]]\n"
          ]
        }
      ],
      "source": [
        "def calculate_mean_std(data):\n",
        "    \"\"\"Helper function to calculate mean and standard deviation.\"\"\"\n",
        "    data_array = np.array(data)\n",
        "    return np.mean(data_array), np.std(data_array)\n",
        "\n",
        "def run_cartpole_experiment():\n",
        "    #lists for the best fitness values for each run\n",
        "    cartpole_results = []\n",
        "\n",
        "    #number of runs is 10\n",
        "    for i in range(10):\n",
        "        print(f\"Running iteration {i+1}\")\n",
        "        #parameters for running\n",
        "        kwargs = {\n",
        "            \"population_size\": 20,\n",
        "            \"max_fit_evals\": 100,\n",
        "            \"p_crossover\": 0.9,\n",
        "            \"m_rate\": 0.5,\n",
        "            \"objective_function\": cartpole,\n",
        "        }\n",
        "        env = gym.make(\"CartPole-v1\")\n",
        "        #run the evolutionary algorithm to get the best fitness\n",
        "        x_best, f_best = ea(**kwargs)\n",
        "        cartpole_results.append(f_best)\n",
        "        print(\"Best fitness found this run:\", f_best)\n",
        "\n",
        "    #calculate the avg and std values\n",
        "    cartpole_avg, cartpole_std = calculate_mean_std(cartpole_results)\n",
        "\n",
        "    avgs = [cartpole_avg]\n",
        "    stds = [cartpole_std]\n",
        "    all_runs = [cartpole_results]\n",
        "\n",
        "    return avgs, stds, all_runs\n",
        "\n",
        "\n",
        "averages, standard_deviations, all_runs_data = run_cartpole_experiment()\n",
        "print(\"Averages:\", averages)\n",
        "print(\"Standard Deviations:\", standard_deviations)\n",
        "print(\"All runs data:\", all_runs_data)\n",
        "\n"
      ]
    },
    {
      "cell_type": "code",
      "execution_count": 25,
      "id": "17935278",
      "metadata": {},
      "outputs": [
        {
          "name": "stdout",
          "output_type": "stream",
          "text": [
            "[1000.0, 1000.0, 1000.0, 1000.0, 1000.0, 1000.0, 1000.0, 1000.0, 1000.0, 1000.0]\n"
          ]
        },
        {
          "data": {
            "image/png": "[encoded data removed]",
            "text/plain": [
              "<Figure size 1000x500 with 1 Axes>"
            ]
          },
          "metadata": {},
          "output_type": "display_data"
        }
      ],
      "source": [
        "\n",
        "\n",
        "def plot_fitness_per_run(averages, standard_deviations, all_runs_data):\n",
        "    plt.figure(figsize=(10, 5))\n",
        "    #the fitness values got in all runs\n",
        "    fitness_values = all_runs_data[0] \n",
        "    print(fitness_values)\n",
        "    #number of runs\n",
        "    runs = np.arange(1, len(fitness_values) + 1)\n",
        "   \n",
        "    #plot the fitness values and stds (the stds are zero, so no changes visible from the fitness values)\n",
        "    plt.errorbar(runs, fitness_values, yerr=standard_deviations, fmt='o-', label='Best Fitness per Run', color='blue', markersize=1, linewidth=2)\n",
        "\n",
        "    #for plotting\n",
        "    plt.title(\"Best Fitness per Run for CartPole\")\n",
        "    plt.xlabel(\"Run\")\n",
        "    plt.ylabel(\"Fitness\")\n",
        "    plt.ylim(min(fitness_values) - 5, max(fitness_values) + 5)  \n",
        "    plt.xticks(runs) \n",
        "    plt.grid(True)\n",
        "    plt.legend()\n",
        "    plt.show()\n",
        "\n",
        "#run with the values of the 10 runs \n",
        "plot_fitness_per_run(averages, standard_deviations, all_runs_data)"
      ]
    },
    {
      "cell_type": "markdown",
      "id": "b3890d84",
      "metadata": {
        "id": "b3890d84"
      },
      "source": [
        "---\n",
        "**Question 4 (0-0.25-0.5 pt):** Please comment on the average behavior of your algorithm. How did the average results and standard deviations look? Did your algorithm converge all the time to the best fitness?\n",
        "\n",
        "**Answer:** \n",
        "The algorithm consistently achieved optimal performance by converging to the best possible fitness score of 1000 across all iterations. Each run demonstrated identical results of 1000, with no variance in the best fitness score and so the standard deviation was 0. This value is indicating stable behavior of results. The ea algorithm has a balance between exploration and exploitation which is acheived by such components as crossover, mutation, and parent selection together with appropriate hyperparameters. This algorithm was able to search and evaluate the space enough to find the optimal solution for the CartPole task without having any fluctuations or uncertainties. "
      ]
    }
  ],
  "metadata": {
    "colab": {
      "provenance": []
    },
    "jupytext": {
      "formats": "ipynb,md,py:light"
    },
    "kernelspec": {
      "display_name": "Python 3 (ipykernel)",
      "language": "python",
      "name": "python3"
    },
    "language_info": {
      "codemirror_mode": {
        "name": "ipython",
        "version": 3
      },
      "file_extension": ".py",
      "mimetype": "text/x-python",
      "name": "python",
      "nbconvert_exporter": "python",
      "pygments_lexer": "ipython3",
      "version": "3.9.13"
    },
    "toc": {
      "base_numbering": 1
    }
  },
  "nbformat": 4,
  "nbformat_minor": 5
}
